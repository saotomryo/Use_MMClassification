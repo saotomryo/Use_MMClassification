{
  "nbformat": 4,
  "nbformat_minor": 0,
  "metadata": {
    "accelerator": "GPU",
    "colab": {
      "name": "Use_MMClassification.ipynb",
      "provenance": [],
      "collapsed_sections": [],
      "machine_shape": "hm",
      "mount_file_id": "1WwJxX279R2WCZ3UO15dyOIVBORyJegYI",
      "authorship_tag": "ABX9TyMXGDkGPqn05paGO3DeeH0X",
      "include_colab_link": true
    },
    "kernelspec": {
      "display_name": "Python 3",
      "name": "python3"
    },
    "language_info": {
      "name": "python"
    },
    "gpuClass": "standard"
  },
  "cells": [
    {
      "cell_type": "markdown",
      "metadata": {
        "id": "view-in-github",
        "colab_type": "text"
      },
      "source": [
        "<a href=\"https://colab.research.google.com/github/saotomryo/Use_MMClassification/blob/main/Use_MMClassification.ipynb\" target=\"_parent\"><img src=\"https://colab.research.google.com/assets/colab-badge.svg\" alt=\"Open In Colab\"/></a>"
      ]
    },
    {
      "cell_type": "code",
      "metadata": {
        "id": "2IPmHECyfHPp"
      },
      "source": [
        "import torch\n",
        "import json\n",
        "from skimage import measure\n",
        "import numpy as np\n",
        "import os\n",
        "from glob import glob\n",
        "import pandas as pd\n",
        "from sklearn.model_selection import train_test_split\n",
        "print(torch.__version__)\n",
        "device = \"cuda\" if torch.cuda.is_available() else \"cpu\"\n",
        "print(\"device = \", device)"
      ],
      "execution_count": null,
      "outputs": []
    },
    {
      "cell_type": "markdown",
      "metadata": {
        "id": "5xdkNklHDWku"
      },
      "source": [
        "## 環境準備 MMCV MMDetectionのインストール"
      ]
    },
    {
      "cell_type": "code",
      "metadata": {
        "id": "zuhLiZC2ClOE"
      },
      "source": [
        "\n",
        "# MMCVのインストール\n",
        "!pip install -U openmim\n",
        "!mim install mmcv-full"
      ],
      "execution_count": null,
      "outputs": []
    },
    {
      "cell_type": "code",
      "metadata": {
        "id": "y3WNFcX3PUcP"
      },
      "source": [
        "HOME_PATH = \"/content\""
      ],
      "execution_count": null,
      "outputs": []
    },
    {
      "cell_type": "code",
      "metadata": {
        "id": "KKdRG66riHGN"
      },
      "source": [
        "\n",
        "!git clone https://github.com/open-mmlab/mmclassification.git\n",
        "%cd mmclassification\n",
        "!pip install -r requirements.txt\n",
        "!pip install \"git+https://github.com/open-mmlab/cocoapi.git#subdirectory=pycocotools\"\n",
        "!pip install -v -e .  # or \"python setup.py develop\""
      ],
      "execution_count": null,
      "outputs": []
    },
    {
      "cell_type": "markdown",
      "metadata": {
        "id": "LDlSsCUcDlr_"
      },
      "source": [
        "## コンフィグファイルの編集"
      ]
    },
    {
      "cell_type": "code",
      "metadata": {
        "id": "MQ_ZoxbmPLGn"
      },
      "source": [
        "from mmcv import Config\n",
        "cfg = Config.fromfile('/content/mmclassification/configs/swin_transformer/swin-base_16xb64_in1k-384px.py')\n"
      ],
      "execution_count": null,
      "outputs": []
    },
    {
      "cell_type": "code",
      "source": [
        "print(f'Config:\\n{cfg.pretty_text}')"
      ],
      "metadata": {
        "id": "1fhTUB2seS8M"
      },
      "execution_count": null,
      "outputs": []
    },
    {
      "cell_type": "code",
      "metadata": {
        "id": "NXx5P69_asuC",
        "colab": {
          "base_uri": "https://localhost:8080/"
        },
        "outputId": "c0c73c8b-d4e3-42f8-8785-500e3df99031"
      },
      "source": [
        "%cd /content/"
      ],
      "execution_count": null,
      "outputs": [
        {
          "output_type": "stream",
          "name": "stdout",
          "text": [
            "/content\n"
          ]
        }
      ]
    },
    {
      "cell_type": "markdown",
      "source": [
        "##MMGenerationでの学習データは以下のような形式でテキストファイルを作成してください。\n",
        "\n",
        "\n",
        "1 画像ファイル名 正解ラベル（数字）  \n",
        "2 画像ファイル名　正解ラベル（数字）  \n",
        "3 .....  \n",
        ".  \n",
        ".  \n",
        "\n"
      ],
      "metadata": {
        "id": "duiKuv6zkrpy"
      }
    },
    {
      "cell_type": "code",
      "metadata": {
        "id": "Pl4npPTBEiUK"
      },
      "source": [
        "# コンフィグを変更する\n",
        "# swin_transforemer\n",
        "\n",
        "#data_root = '画像データのルートフォルダ'\n",
        "data_root = '/content/drive/MyDrive/signate/Tanacho/train/'\n",
        "\n",
        "cfg.model.head.num_classes = #分類するクラス数\n",
        "cfg.data.test.data_prefix = # テストデータのパス\n",
        "cfg.data.val.data_prefix = # 検証データのパス\n",
        "cfg.data.train.data_prefix = # 学習データのパス\n",
        "\n",
        "cfg.data.train.ann_file = # 学習用のアノテーションファイルのパス\n",
        "cfg.data.test.ann_file = # テスト用のアノテーションファイルのパス\n",
        "cfg.data.val.ann_file = # 検証用のアノテーションファイルのパス\n",
        "\n",
        "\n",
        "# バッチサイズ\n",
        "#cfg.data.samples_per_gpu = #メモリエラーが出る場合は、バッチサイズを減らしてみてください。\n",
        "#cfg.data.workers_per_gpu = #メモリエラーが出る場合は、バッチサイズを減らしてみてください。\n",
        "\n",
        "\n",
        "# Let's have a look at the final config used for training\n",
        "print(f'Config:\\n{cfg.pretty_text}')\n",
        "\n",
        "\n",
        "# 編集したコンフィグをファイル出力\n",
        "cfg.dump('/content/swin_transformer.py')\n"
      ],
      "execution_count": null,
      "outputs": []
    },
    {
      "cell_type": "code",
      "metadata": {
        "id": "8hXq2KM6EaZv"
      },
      "source": [
        "%cd \"$HOME_PATH\"\n",
        "!mkdir -p \"$HOME_PATH\"/work_train\n",
        "!python /content/mmclassification/tools/train.py \\\n",
        "    '/content/swin_transformer.py' \\\n",
        "    --work-dir \"$HOME_PATH\"/work_train\n"
      ],
      "execution_count": null,
      "outputs": []
    },
    {
      "cell_type": "markdown",
      "metadata": {
        "id": "rWpWKp8xDps0"
      },
      "source": [
        "## 学習結果の確認"
      ]
    },
    {
      "cell_type": "code",
      "metadata": {
        "colab": {
          "background_save": true
        },
        "id": "_9LdgUnsSF0n"
      },
      "source": [
        "from argparse import ArgumentParser\n",
        "from mmdet.apis import inference_detector, init_detector, show_result_pyplot\n",
        "model = init_detector(\"/content/swin_transformer.py\", \"学習済みモデル\", device=device)\n",
        "result = inference_detector(model, \"予測結果を確認する画像のパス\")\n"
      ],
      "execution_count": null,
      "outputs": []
    }
  ]
}